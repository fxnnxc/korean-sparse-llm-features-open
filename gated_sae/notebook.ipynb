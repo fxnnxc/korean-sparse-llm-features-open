{
 "cells": [
  {
   "cell_type": "markdown",
   "metadata": {},
   "source": [
    "# Standard Sparse AutoEncoder"
   ]
  },
  {
   "cell_type": "code",
   "execution_count": 5,
   "metadata": {},
   "outputs": [],
   "source": [
    "from nlp_features.sae.gated_sae import GatedTrainer, GatedAutoEncoder\n",
    "activation_dim, dict_size = 512, 1000\n",
    "device='cuda:0'\n",
    "steps = 1000\n",
    "trainer = GatedTrainer(\n",
    "    activation_dim=512,\n",
    "    dict_size=64*512,\n",
    "    lr=1e-3, \n",
    "    warmup_steps=100, # lr warmup period at start of training and after each resample\n",
    "    device=device,\n",
    "    resample_steps=10, # how often to resample neurons\n",
    "    steps=steps,\n",
    "    initial_sparsity_penalty=5e-1\n",
    ")"
   ]
  },
  {
   "cell_type": "code",
   "execution_count": 6,
   "metadata": {},
   "outputs": [
    {
     "name": "stdout",
     "output_type": "stream",
     "text": [
      "GatedAutoEncoder(\n",
      "  (encoder): Linear(in_features=512, out_features=32768, bias=False)\n",
      "  (decoder): Linear(in_features=32768, out_features=512, bias=False)\n",
      ")\n",
      "decoder_bias torch.Size([512])\n",
      "r_mag torch.Size([32768])\n",
      "gate_bias torch.Size([32768])\n",
      "mag_bias torch.Size([32768])\n",
      "encoder.weight torch.Size([32768, 512])\n",
      "decoder.weight torch.Size([512, 32768])\n"
     ]
    }
   ],
   "source": [
    "import os \n",
    "import torch \n",
    "# check save \n",
    "path = 'outputs'\n",
    "os.makedirs(path, exist_ok=True)\n",
    "\n",
    "ae = trainer.ae \n",
    "print(ae)\n",
    "torch.save(ae.state_dict(), \"outputs/params.pth\")\n",
    "\n",
    "# check load \n",
    "path =  \"outputs/params.pth\"\n",
    "loaded_ae = GatedAutoEncoder.from_pretrained(path)\n",
    "for p in loaded_ae.named_parameters():\n",
    "    print(p[0], p[1].shape)\n"
   ]
  },
  {
   "cell_type": "code",
   "execution_count": 7,
   "metadata": {},
   "outputs": [
    {
     "data": {
      "text/plain": [
       "(torch.Size([4, 512]), torch.Size([4, 32768]))"
      ]
     },
     "execution_count": 7,
     "metadata": {},
     "output_type": "execute_result"
    }
   ],
   "source": [
    "# encode and decode \n",
    "import torch \n",
    "c\n",
    "reconstructed_activations.shape, features.shape"
   ]
  },
  {
   "cell_type": "code",
   "execution_count": 8,
   "metadata": {},
   "outputs": [
    {
     "name": "stderr",
     "output_type": "stream",
     "text": [
      "100%|██████████| 1000/1000 [00:58<00:00, 17.20it/s] \n"
     ]
    },
    {
     "name": "stdout",
     "output_type": "stream",
     "text": [
      "no dead neurons\n",
      "no dead neurons\n",
      "no dead neurons\n"
     ]
    },
    {
     "name": "stderr",
     "output_type": "stream",
     "text": []
    },
    {
     "name": "stdout",
     "output_type": "stream",
     "text": [
      "no dead neurons\n"
     ]
    },
    {
     "name": "stderr",
     "output_type": "stream",
     "text": []
    },
    {
     "name": "stdout",
     "output_type": "stream",
     "text": [
      "no dead neurons\n",
      "no dead neurons\n",
      "no dead neurons\n",
      "no dead neurons\n"
     ]
    },
    {
     "name": "stderr",
     "output_type": "stream",
     "text": []
    },
    {
     "name": "stdout",
     "output_type": "stream",
     "text": [
      "no dead neurons\n"
     ]
    },
    {
     "name": "stderr",
     "output_type": "stream",
     "text": []
    },
    {
     "name": "stdout",
     "output_type": "stream",
     "text": [
      "no dead neurons\n",
      "no dead neurons\n",
      "no dead neurons\n",
      "no dead neurons\n",
      "no dead neurons\n"
     ]
    },
    {
     "name": "stderr",
     "output_type": "stream",
     "text": []
    },
    {
     "name": "stdout",
     "output_type": "stream",
     "text": [
      "no dead neurons\n",
      "no dead neurons\n",
      "no dead neurons\n",
      "no dead neurons\n",
      "no dead neurons\n"
     ]
    },
    {
     "name": "stderr",
     "output_type": "stream",
     "text": []
    },
    {
     "name": "stdout",
     "output_type": "stream",
     "text": [
      "no dead neurons\n",
      "no dead neurons\n",
      "no dead neurons\n",
      "no dead neurons\n"
     ]
    },
    {
     "name": "stderr",
     "output_type": "stream",
     "text": []
    },
    {
     "name": "stdout",
     "output_type": "stream",
     "text": [
      "no dead neurons\n"
     ]
    },
    {
     "name": "stderr",
     "output_type": "stream",
     "text": []
    },
    {
     "name": "stdout",
     "output_type": "stream",
     "text": [
      "no dead neurons\n",
      "no dead neurons\n",
      "no dead neurons\n"
     ]
    },
    {
     "name": "stderr",
     "output_type": "stream",
     "text": []
    },
    {
     "name": "stdout",
     "output_type": "stream",
     "text": [
      "no dead neurons\n"
     ]
    },
    {
     "name": "stderr",
     "output_type": "stream",
     "text": []
    },
    {
     "name": "stdout",
     "output_type": "stream",
     "text": [
      "no dead neurons\n",
      "no dead neurons\n",
      "no dead neurons\n"
     ]
    },
    {
     "name": "stderr",
     "output_type": "stream",
     "text": []
    },
    {
     "name": "stdout",
     "output_type": "stream",
     "text": [
      "no dead neurons\n"
     ]
    },
    {
     "name": "stderr",
     "output_type": "stream",
     "text": []
    },
    {
     "name": "stdout",
     "output_type": "stream",
     "text": [
      "no dead neurons\n",
      "no dead neurons\n",
      "no dead neurons\n"
     ]
    },
    {
     "name": "stderr",
     "output_type": "stream",
     "text": []
    },
    {
     "name": "stdout",
     "output_type": "stream",
     "text": [
      "no dead neurons\n"
     ]
    },
    {
     "name": "stderr",
     "output_type": "stream",
     "text": []
    },
    {
     "name": "stdout",
     "output_type": "stream",
     "text": [
      "no dead neurons\n",
      "no dead neurons\n",
      "no dead neurons\n"
     ]
    },
    {
     "name": "stderr",
     "output_type": "stream",
     "text": []
    },
    {
     "name": "stdout",
     "output_type": "stream",
     "text": [
      "no dead neurons\n"
     ]
    },
    {
     "name": "stderr",
     "output_type": "stream",
     "text": [
      "\n"
     ]
    },
    {
     "name": "stdout",
     "output_type": "stream",
     "text": [
      "no dead neurons\n",
      "no dead neurons\n",
      "no dead neurons\n",
      "no dead neurons\n"
     ]
    },
    {
     "name": "stderr",
     "output_type": "stream",
     "text": [
      " 22%|██▏       | 221/1000 [00:02<00:07, 99.04it/s]\u001b[A"
     ]
    },
    {
     "name": "stdout",
     "output_type": "stream",
     "text": [
      "no dead neurons\n",
      "no dead neurons\n",
      "no dead neurons\n",
      "no dead neurons\n"
     ]
    },
    {
     "name": "stderr",
     "output_type": "stream",
     "text": []
    },
    {
     "name": "stdout",
     "output_type": "stream",
     "text": [
      "no dead neurons\n",
      "no dead neurons\n",
      "no dead neurons\n",
      "no dead neurons\n"
     ]
    },
    {
     "name": "stderr",
     "output_type": "stream",
     "text": []
    },
    {
     "name": "stdout",
     "output_type": "stream",
     "text": [
      "no dead neurons\n",
      "no dead neurons\n",
      "no dead neurons\n",
      "no dead neurons\n"
     ]
    },
    {
     "name": "stderr",
     "output_type": "stream",
     "text": []
    },
    {
     "name": "stdout",
     "output_type": "stream",
     "text": [
      "no dead neurons\n",
      "no dead neurons\n",
      "no dead neurons\n",
      "no dead neurons\n"
     ]
    },
    {
     "name": "stderr",
     "output_type": "stream",
     "text": []
    },
    {
     "name": "stdout",
     "output_type": "stream",
     "text": [
      "no dead neurons\n",
      "no dead neurons\n",
      "no dead neurons\n",
      "no dead neurons\n"
     ]
    },
    {
     "name": "stderr",
     "output_type": "stream",
     "text": []
    },
    {
     "name": "stdout",
     "output_type": "stream",
     "text": [
      "no dead neurons\n",
      "no dead neurons\n",
      "no dead neurons\n",
      "no dead neurons\n"
     ]
    },
    {
     "name": "stderr",
     "output_type": "stream",
     "text": []
    },
    {
     "name": "stdout",
     "output_type": "stream",
     "text": [
      "no dead neurons\n",
      "no dead neurons\n",
      "no dead neurons\n",
      "no dead neurons\n"
     ]
    },
    {
     "name": "stderr",
     "output_type": "stream",
     "text": []
    },
    {
     "name": "stdout",
     "output_type": "stream",
     "text": [
      "no dead neurons\n",
      "no dead neurons\n",
      "no dead neurons\n",
      "no dead neurons\n"
     ]
    },
    {
     "name": "stderr",
     "output_type": "stream",
     "text": []
    },
    {
     "name": "stdout",
     "output_type": "stream",
     "text": [
      "no dead neurons\n",
      "no dead neurons\n",
      "no dead neurons\n",
      "no dead neurons\n"
     ]
    },
    {
     "name": "stderr",
     "output_type": "stream",
     "text": []
    },
    {
     "name": "stdout",
     "output_type": "stream",
     "text": [
      "no dead neurons\n",
      "no dead neurons\n",
      "no dead neurons\n",
      "no dead neurons\n"
     ]
    },
    {
     "name": "stderr",
     "output_type": "stream",
     "text": []
    },
    {
     "name": "stdout",
     "output_type": "stream",
     "text": [
      "no dead neurons\n",
      "no dead neurons\n",
      "no dead neurons\n",
      "no dead neurons\n"
     ]
    },
    {
     "name": "stderr",
     "output_type": "stream",
     "text": []
    },
    {
     "name": "stdout",
     "output_type": "stream",
     "text": [
      "no dead neurons\n",
      "no dead neurons\n",
      "no dead neurons\n",
      "no dead neurons\n"
     ]
    },
    {
     "name": "stderr",
     "output_type": "stream",
     "text": []
    },
    {
     "name": "stdout",
     "output_type": "stream",
     "text": [
      "no dead neurons\n",
      "no dead neurons\n",
      "no dead neurons\n",
      "no dead neurons\n"
     ]
    },
    {
     "name": "stderr",
     "output_type": "stream",
     "text": []
    },
    {
     "name": "stdout",
     "output_type": "stream",
     "text": [
      "no dead neurons\n",
      "no dead neurons\n",
      "no dead neurons\n",
      "no dead neurons\n"
     ]
    },
    {
     "name": "stderr",
     "output_type": "stream",
     "text": []
    },
    {
     "name": "stdout",
     "output_type": "stream",
     "text": [
      "no dead neurons\n",
      "no dead neurons\n",
      "no dead neurons\n",
      "no dead neurons\n",
      "no dead neurons\n"
     ]
    },
    {
     "name": "stderr",
     "output_type": "stream",
     "text": []
    },
    {
     "name": "stdout",
     "output_type": "stream",
     "text": [
      "no dead neurons\n",
      "no dead neurons\n",
      "no dead neurons\n",
      "no dead neurons\n",
      "no dead neurons\n"
     ]
    },
    {
     "name": "stderr",
     "output_type": "stream",
     "text": []
    },
    {
     "name": "stdout",
     "output_type": "stream",
     "text": [
      "no dead neurons\n",
      "no dead neurons\n",
      "no dead neurons\n",
      "no dead neurons\n"
     ]
    },
    {
     "name": "stderr",
     "output_type": "stream",
     "text": []
    },
    {
     "name": "stdout",
     "output_type": "stream",
     "text": [
      "no dead neurons\n",
      "no dead neurons\n",
      "no dead neurons\n",
      "no dead neurons\n"
     ]
    },
    {
     "name": "stderr",
     "output_type": "stream",
     "text": []
    },
    {
     "name": "stdout",
     "output_type": "stream",
     "text": [
      "no dead neurons\n",
      "no dead neurons\n",
      "no dead neurons\n",
      "no dead neurons\n"
     ]
    },
    {
     "name": "stderr",
     "output_type": "stream",
     "text": []
    },
    {
     "name": "stdout",
     "output_type": "stream",
     "text": [
      "no dead neurons\n",
      "no dead neurons\n",
      "no dead neurons\n",
      "no dead neurons\n",
      "no dead neurons\n"
     ]
    },
    {
     "name": "stderr",
     "output_type": "stream",
     "text": []
    },
    {
     "name": "stdout",
     "output_type": "stream",
     "text": [
      "no dead neurons\n",
      "no dead neurons\n",
      "no dead neurons\n",
      "no dead neurons\n",
      "no dead neurons\n"
     ]
    },
    {
     "name": "stderr",
     "output_type": "stream",
     "text": []
    },
    {
     "name": "stdout",
     "output_type": "stream",
     "text": [
      "no dead neurons\n",
      "no dead neurons\n",
      "no dead neurons\n",
      "no dead neurons\n"
     ]
    },
    {
     "name": "stderr",
     "output_type": "stream",
     "text": []
    },
    {
     "name": "stdout",
     "output_type": "stream",
     "text": [
      "no dead neurons\n",
      "no dead neurons\n",
      "no dead neurons\n",
      "no dead neurons\n",
      "no dead neurons\n"
     ]
    },
    {
     "name": "stderr",
     "output_type": "stream",
     "text": []
    },
    {
     "name": "stdout",
     "output_type": "stream",
     "text": [
      "no dead neurons\n",
      "no dead neurons\n",
      "no dead neurons\n",
      "no dead neurons\n",
      "no dead neurons\n"
     ]
    },
    {
     "name": "stderr",
     "output_type": "stream",
     "text": []
    },
    {
     "name": "stdout",
     "output_type": "stream",
     "text": [
      "no dead neurons\n",
      "no dead neurons\n",
      "no dead neurons\n",
      "no dead neurons\n",
      "no dead neurons\n"
     ]
    },
    {
     "name": "stderr",
     "output_type": "stream",
     "text": []
    },
    {
     "name": "stdout",
     "output_type": "stream",
     "text": [
      "no dead neurons\n",
      "no dead neurons\n",
      "no dead neurons\n",
      "no dead neurons\n",
      "no dead neurons\n"
     ]
    },
    {
     "name": "stderr",
     "output_type": "stream",
     "text": []
    },
    {
     "name": "stdout",
     "output_type": "stream",
     "text": [
      "no dead neurons\n",
      "no dead neurons\n",
      "no dead neurons\n",
      "no dead neurons\n",
      "no dead neurons\n"
     ]
    },
    {
     "name": "stderr",
     "output_type": "stream",
     "text": []
    },
    {
     "name": "stdout",
     "output_type": "stream",
     "text": [
      "no dead neurons\n",
      "no dead neurons\n",
      "no dead neurons\n",
      "no dead neurons\n",
      "no dead neurons\n"
     ]
    },
    {
     "name": "stderr",
     "output_type": "stream",
     "text": []
    },
    {
     "name": "stdout",
     "output_type": "stream",
     "text": [
      "no dead neurons\n",
      "no dead neurons\n",
      "no dead neurons\n",
      "no dead neurons\n",
      "no dead neurons\n"
     ]
    },
    {
     "name": "stderr",
     "output_type": "stream",
     "text": []
    },
    {
     "name": "stdout",
     "output_type": "stream",
     "text": [
      "no dead neurons\n",
      "no dead neurons\n",
      "no dead neurons\n",
      "no dead neurons\n",
      "no dead neurons\n"
     ]
    },
    {
     "name": "stderr",
     "output_type": "stream",
     "text": []
    },
    {
     "name": "stdout",
     "output_type": "stream",
     "text": [
      "no dead neurons\n",
      "no dead neurons\n",
      "no dead neurons\n",
      "no dead neurons\n",
      "no dead neurons\n"
     ]
    },
    {
     "name": "stderr",
     "output_type": "stream",
     "text": []
    },
    {
     "name": "stdout",
     "output_type": "stream",
     "text": [
      "no dead neurons\n",
      "no dead neurons\n",
      "no dead neurons\n",
      "no dead neurons\n",
      "no dead neurons\n"
     ]
    },
    {
     "name": "stderr",
     "output_type": "stream",
     "text": []
    },
    {
     "name": "stdout",
     "output_type": "stream",
     "text": [
      "no dead neurons\n",
      "no dead neurons\n",
      "no dead neurons\n",
      "no dead neurons\n",
      "no dead neurons\n"
     ]
    },
    {
     "name": "stderr",
     "output_type": "stream",
     "text": []
    },
    {
     "name": "stdout",
     "output_type": "stream",
     "text": [
      "no dead neurons\n",
      "no dead neurons\n",
      "no dead neurons\n",
      "no dead neurons\n",
      "no dead neurons\n"
     ]
    },
    {
     "name": "stderr",
     "output_type": "stream",
     "text": []
    },
    {
     "name": "stdout",
     "output_type": "stream",
     "text": [
      "no dead neurons\n",
      "no dead neurons\n",
      "no dead neurons\n",
      "no dead neurons\n"
     ]
    },
    {
     "data": {
      "image/png": "[encoded data removed]",
      "text/plain": [
       "<Figure size 1600x300 with 8 Axes>"
      ]
     },
     "metadata": {},
     "output_type": "display_data"
    },
    {
     "name": "stderr",
     "output_type": "stream",
     "text": []
    }
   ],
   "source": [
    "# train \n",
    "\n",
    "import torch \n",
    "import seaborn as sns \n",
    "from tqdm import tqdm \n",
    "import matplotlib.pyplot as plt \n",
    "\n",
    "infos = {}\n",
    "log_step = 5\n",
    "total_steps = 1000\n",
    "\n",
    "pbar = tqdm(total=total_steps)\n",
    "for step in range(total_steps):\n",
    "    pbar.update(1)\n",
    "    act = torch.randn(32, 512).to(device)\n",
    "    trainer.update(step, act)\n",
    "    if step % log_step == 0:\n",
    "        with torch.no_grad():\n",
    "            infos[step] = trainer.loss(act, step, logging=True)[3]\n",
    "            \n",
    "sns.set_style(\"whitegrid\")\n",
    "def visualize_infos(infos, figsize=(12,2.5)):\n",
    "    steps = sorted(list(infos.keys()))\n",
    "    names = list(infos[steps[0]].keys())\n",
    "    fig, axes = plt.subplots(1, len(names), figsize=figsize)\n",
    "    for i in range(len(names)):\n",
    "        name = names[i]\n",
    "        sns.lineplot(x=steps, y=[infos[step][name] for step in steps], ax=axes[i])\n",
    "        axes[i].set_title(name)\n",
    "    plt.tight_layout()\n",
    "    return fig, axes \n",
    "\n",
    "visualize_infos(infos, figsize=(16,3))\n",
    "\n",
    "os.makedirs(\"assets\", exist_ok=True)\n",
    "plt.savefig(\"assets/loss.png\")"
   ]
  },
  {
   "cell_type": "code",
   "execution_count": null,
   "metadata": {},
   "outputs": [],
   "source": []
  },
  {
   "cell_type": "code",
   "execution_count": null,
   "metadata": {},
   "outputs": [],
   "source": []
  }
 ],
 "metadata": {
  "kernelspec": {
   "display_name": "base",
   "language": "python",
   "name": "python3"
  },
  "language_info": {
   "codemirror_mode": {
    "name": "ipython",
    "version": 3
   },
   "file_extension": ".py",
   "mimetype": "text/x-python",
   "name": "python",
   "nbconvert_exporter": "python",
   "pygments_lexer": "ipython3",
   "version": "3.11.7"
  }
 },
 "nbformat": 4,
 "nbformat_minor": 2
}
